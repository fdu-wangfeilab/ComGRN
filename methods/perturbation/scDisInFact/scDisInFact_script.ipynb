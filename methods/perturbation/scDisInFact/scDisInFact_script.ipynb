{
 "cells": [
  {
   "cell_type": "code",
   "execution_count": null,
   "metadata": {},
   "outputs": [],
   "source": [
    "import sys, os\n",
    "import torch\n",
    "import numpy as np \n",
    "import pandas as pd\n",
    "from scDisInFact import scdisinfact, create_scdisinfact_dataset\n",
    "from scDisInFact import utils\n",
    "\n",
    "import matplotlib.pyplot as plt\n",
    "\n",
    "from umap import UMAP\n",
    "from sklearn.decomposition import PCA\n",
    "import scipy.sparse as sp\n",
    "from scipy import sparse\n",
    "from scipy import stats\n",
    "from scipy.sparse import issparse, csr_matrix\n",
    "\n",
    "import scanpy as sc\n",
    "plt.rcParams['text.color'] = 'black'\n",
    "sc.set_figure_params(dpi=100, facecolor='white')\n",
    "\n",
    "device = torch.device(\"cuda:0\" if torch.cuda.is_available() else \"cpu\")"
   ]
  },
  {
   "cell_type": "code",
   "execution_count": null,
   "metadata": {},
   "outputs": [],
   "source": [
    "data_name = \"pbmc\"\n",
    "out_dir = \"/home/dongjiayi/workbench/denoise/data/pbmc/\"\n",
    "data_path = \"/home/dongjiayi/workbench/denoise/data/pbmc/\"\n",
    "adata = sc.read_h5ad(data_path + \"demo.h5ad\")\n",
    "adata.obs['batch'] = '0' \n",
    "counts = adata.X\n",
    "meta_cells = adata.obs\n",
    "\n",
    "print(adata)"
   ]
  },
  {
   "cell_type": "code",
   "execution_count": null,
   "metadata": {},
   "outputs": [],
   "source": [
    "celltype = list(set(adata.obs['cellstate']))\n",
    "\n",
    "train_data_list = []\n",
    "test_data_list = []\n",
    "for i in celltype:\n",
    "    test_idx = ((meta_cells[\"condition\"] == 1) & (meta_cells[\"cellstate\"] == i))\n",
    "    test_data_list.append(test_idx)\n",
    "    train_idx = ~test_idx\n",
    "    train_data_list.append(train_idx)"
   ]
  },
  {
   "cell_type": "code",
   "execution_count": null,
   "metadata": {},
   "outputs": [],
   "source": [
    "# default setting of hyper-parameters\n",
    "reg_mmd_comm = 1e-4\n",
    "reg_mmd_diff = 1e-4\n",
    "reg_kl_comm = 1e-5\n",
    "reg_kl_diff = 1e-2\n",
    "reg_class = 1\n",
    "reg_gl = 1\n",
    "\n",
    "Ks = [8, 2, 2] # 2\n",
    "\n",
    "batch_size = 64\n",
    "nepochs = 100\n",
    "interval = 10\n",
    "lr = 5e-4\n",
    "lambs = [reg_mmd_comm, reg_mmd_diff, reg_kl_comm, reg_kl_diff, reg_class, reg_gl]"
   ]
  },
  {
   "cell_type": "code",
   "execution_count": null,
   "metadata": {},
   "outputs": [],
   "source": [
    "concat_adata_list = []"
   ]
  },
  {
   "cell_type": "code",
   "execution_count": null,
   "metadata": {},
   "outputs": [],
   "source": [
    "for i in range(len(celltype)): \n",
    "    data_dict = create_scdisinfact_dataset(counts[train_data_list[i],:], meta_cells.loc[train_data_list[i],:], \n",
    "                                           condition_key = [\"condition\", \"cellstate\"], batch_key = \"batch\", log_trans=False) # \n",
    "    \n",
    "    model = scdisinfact(data_dict = data_dict, Ks = Ks, batch_size = batch_size, interval = interval, lr = lr, \n",
    "                    reg_mmd_comm = reg_mmd_comm, reg_mmd_diff = reg_mmd_diff, reg_gl = reg_gl, reg_class = reg_class, \n",
    "                    reg_kl_comm = reg_kl_comm, reg_kl_diff = reg_kl_diff, seed = 0, device = device)\n",
    "    model.train()\n",
    "    losses = model.train_model(nepochs = nepochs, recon_loss = \"NB\")\n",
    "\n",
    "    _ = model.eval()\n",
    "    \n",
    "    input_idx = ((meta_cells[\"condition\"] == 0) & (meta_cells[\"cellstate\"] == celltype[i])).values\n",
    "    counts_input = counts[input_idx,:]\n",
    "    meta_input = meta_cells.loc[input_idx,:]\n",
    "\n",
    "    counts_predict = model.predict_counts(input_counts = counts_input, meta_cells = meta_input, \n",
    "                                        condition_keys = [\"condition\", \"cellstate\"], \n",
    "                                        batch_key = \"batch\", predict_conds = [1, celltype[i]], \n",
    "                                        predict_batch = '0')\n",
    "    \n",
    "    trans_test_data = sc.AnnData(X=counts_predict)\n",
    "    trans_test_data.obs_names=meta_input.index.to_series()\n",
    "    trans_test_data.var=adata.var\n",
    "    trans_test_data.obs['cellstate'] = celltype[i]\n",
    "    trans_test_data.obs['condition'] = 2\n",
    "    \n",
    "    concat_adata_list.append(trans_test_data)"
   ]
  },
  {
   "cell_type": "code",
   "execution_count": null,
   "metadata": {},
   "outputs": [],
   "source": [
    "concat_adata = adata.concatenate(concat_adata_list)  \n",
    "print(concat_adata)\n",
    "# save model and data\n",
    "concat_adata.write_h5ad(os.path.join(out_dir, f'{data_name}_scDisInFact_adata.h5ad'))"
   ]
  }
 ],
 "metadata": {
  "language_info": {
   "name": "python"
  }
 },
 "nbformat": 4,
 "nbformat_minor": 2
}
