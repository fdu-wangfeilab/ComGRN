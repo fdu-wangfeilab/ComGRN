{
 "cells": [
  {
   "cell_type": "code",
   "execution_count": null,
   "metadata": {},
   "outputs": [],
   "source": [
    "# conda activate python38\n",
    "import scanpy as sc\n",
    "import squidpy as sq\n",
    "\n",
    "import numpy as np\n",
    "import pandas as pd\n",
    "import os\n",
    "import matplotlib.pyplot as plt\n",
    "\n",
    "plt.rcParams['text.color'] = 'black'\n",
    "sc.set_figure_params(dpi=100, facecolor='white')\n",
    "\n",
    "import warnings\n",
    "warnings.filterwarnings(\"ignore\")"
   ]
  },
  {
   "cell_type": "code",
   "execution_count": null,
   "metadata": {},
   "outputs": [],
   "source": [
    "from pertvi.model import PertVI"
   ]
  },
  {
   "cell_type": "code",
   "execution_count": null,
   "metadata": {},
   "outputs": [],
   "source": [
    "data_name='pbmc'\n",
    "out_dir = \"/home/dongjiayi/workbench/denoise/data/pbmc/\"\n",
    "data_path = \"/home/dongjiayi/workbench/denoise/data/pbmc/\"\n",
    "adata = sc.read_h5ad(data_path + \"demo.h5ad\")\n",
    "adata.obs['condition'] = adata.obs['condition'].apply(lambda x:str(x))"
   ]
  },
  {
   "cell_type": "code",
   "execution_count": null,
   "metadata": {},
   "outputs": [],
   "source": [
    "PertVI.get_pert(adata, drug_label='condition')\n",
    "PertVI.setup_anndata(adata, labels_key ='condition')"
   ]
  },
  {
   "cell_type": "code",
   "execution_count": null,
   "metadata": {},
   "outputs": [],
   "source": [
    "celltype = list(set(adata.obs['cellstate']))\n",
    "train_data_list = []\n",
    "test_data_list = []\n",
    "\n",
    "for i in celltype:\n",
    "    test_adata = adata[(adata.obs['cellstate'] == i) & (adata.obs['condition'] == '0')]\n",
    "    test_data_list.append(test_adata)\n",
    "    train_adata = adata[adata.obs['cellstate'] != i]\n",
    "    train_data_list.append(train_adata)"
   ]
  },
  {
   "cell_type": "code",
   "execution_count": null,
   "metadata": {},
   "outputs": [],
   "source": [
    "for i, ct in enumerate(celltype):\n",
    "    train_adata = train_data_list[i]\n",
    "    test_adata = test_data_list[i]\n",
    "    PertVI.get_pert(train_adata, drug_label='condition')\n",
    "    PertVI.get_pert(test_adata, drug_label='condition')\n",
    "    PertVI.setup_anndata(train_adata, labels_key = 'condition')\n",
    "\n",
    "    model_test = PertVI(train_adata, n_layers=2,n_latent=100,n_hidden=1000,lam_l0=0.2,lam_l1=1e-4,\n",
    "                        kl_weight=0.5,lam_corr=1.5, use_observed_lib_size=True)\n",
    "    model_test.train(\n",
    "        train_size=0.9,\n",
    "        use_gpu=1, # needs to be adjusted base on your own device\n",
    "        batch_size=400,\n",
    "        early_stopping=False,\n",
    "        max_epochs=400,\n",
    "        lr = 1e-3,\n",
    "        weight_decay = 1e-5,\n",
    "        n_samples_per_label = 2,\n",
    "    )\n",
    "    \n",
    "    PertVI.setup_anndata(test_adata, batch_key='batch', labels_key = 'condition')\n",
    "    test_adata.obsm['pred'] = np.array([['0', '1']] * test_adata.shape[0])\n",
    "    test_adata.obsm['X_trans'] = model_test.get_response(test_adata, pert_key='pred')\n",
    "\n",
    "    trans_train_adata = sc.AnnData(X=test_adata.obsm['X_trans'], obs=test_adata.obs, var=test_adata.var)\n",
    "    trans_train_adata.obs['condition'] = [2] * trans_train_adata.shape[0]\n",
    "    print(trans_train_adata)\n",
    "    concat_adata_list.append(trans_train_adata)\n"
   ]
  },
  {
   "cell_type": "code",
   "execution_count": null,
   "metadata": {},
   "outputs": [],
   "source": [
    "concat_adata = adata.concatenate(concat_adata_list)   \n",
    "print(concat_adata)"
   ]
  },
  {
   "cell_type": "code",
   "execution_count": null,
   "metadata": {},
   "outputs": [],
   "source": [
    "concat_adata.write_h5ad(os.path.join(out_dir, f'{data_name}_scShift_adata.h5ad'))"
   ]
  }
 ],
 "metadata": {
  "language_info": {
   "name": "python"
  }
 },
 "nbformat": 4,
 "nbformat_minor": 2
}
