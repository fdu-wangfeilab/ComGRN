{
 "cells": [
  {
   "cell_type": "code",
   "execution_count": null,
   "metadata": {},
   "outputs": [],
   "source": [
    "import regdiffusion as rd\n",
    "import scanpy as sc\n",
    "import pandas as pd \n",
    "import numpy as np"
   ]
  },
  {
   "cell_type": "code",
   "execution_count": null,
   "metadata": {},
   "outputs": [],
   "source": [
    "data_dir = '/home/dongjiayi/workbench/denoise/data/mESC/v3/'\n",
    "data_name =  \"demo\" \n",
    "\n",
    "bl_data = rd.load_data(data_dir, data_name)\n",
    "\n",
    "bl_data = bl_data \n",
    "sc.pp.filter_genes(bl_data, min_cells=10)\n",
    "print(bl_data)\n",
    "\n",
    "configs = rd.DEFAULT_REGDIFFUSION_CONFIGS\n",
    "configs['device'] = 'cuda'"
   ]
  },
  {
   "cell_type": "code",
   "execution_count": null,
   "metadata": {},
   "outputs": [],
   "source": [
    "model = rd.runRegDiffusion(bl_data.X, configs) \n",
    "adj = model.get_adj()"
   ]
  },
  {
   "cell_type": "code",
   "execution_count": null,
   "metadata": {},
   "outputs": [],
   "source": [
    "pred_path = f'{data_dir}/rankedEdge_regdiffusion.csv'\n",
    "\n",
    "res = pd.DataFrame(adj)\n",
    "res.to_csv(pred_path)"
   ]
  }
 ],
 "metadata": {
  "language_info": {
   "name": "python"
  }
 },
 "nbformat": 4,
 "nbformat_minor": 2
}
